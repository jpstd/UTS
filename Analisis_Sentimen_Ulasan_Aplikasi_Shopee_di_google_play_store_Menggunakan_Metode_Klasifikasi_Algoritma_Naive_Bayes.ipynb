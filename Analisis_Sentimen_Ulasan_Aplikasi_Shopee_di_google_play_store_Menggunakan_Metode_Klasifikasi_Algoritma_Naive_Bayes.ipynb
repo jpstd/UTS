{
  "nbformat": 4,
  "nbformat_minor": 0,
  "metadata": {
    "colab": {
      "provenance": [],
      "authorship_tag": "ABX9TyO4hlPEmPkMDrqKXi9M5YZA",
      "include_colab_link": true
    },
    "kernelspec": {
      "name": "python3",
      "display_name": "Python 3"
    },
    "language_info": {
      "name": "python"
    }
  },
  "cells": [
    {
      "cell_type": "markdown",
      "metadata": {
        "id": "view-in-github",
        "colab_type": "text"
      },
      "source": [
        "<a href=\"https://colab.research.google.com/github/jpstd/UTS/blob/main/Analisis_Sentimen_Ulasan_Aplikasi_Shopee_di_google_play_store_Menggunakan_Metode_Klasifikasi_Algoritma_Naive_Bayes.ipynb\" target=\"_parent\"><img src=\"https://colab.research.google.com/assets/colab-badge.svg\" alt=\"Open In Colab\"/></a>"
      ]
    },
    {
      "cell_type": "code",
      "execution_count": null,
      "metadata": {
        "id": "uNN3SmXW7PMr"
      },
      "outputs": [],
      "source": []
    }
  ]
}